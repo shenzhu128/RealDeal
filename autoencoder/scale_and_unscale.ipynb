{
 "cells": [
  {
   "cell_type": "code",
   "execution_count": null,
   "id": "0b43a21b",
   "metadata": {},
   "outputs": [],
   "source": [
    "import matplotlib.pyplot as plt\n",
    "import nibabel as nib\n",
    "import numpy as np"
   ]
  },
  {
   "cell_type": "code",
   "execution_count": null,
   "id": "d375ba02",
   "metadata": {},
   "outputs": [],
   "source": [
    "cutoff_vals = [[0.2, 0.9], [0.1, 0.65], [0.1, 0.85], [0.2, 1.0]]\n",
    "\n",
    "\n",
    "def scale_img(img, cutoff):\n",
    "    ch_num = img.shape[1]\n",
    "    res = img.copy()\n",
    "    for i in range(ch_num):\n",
    "        res[:, i] = (img[:, i] - cutoff[i, 0]) / (cutoff[i, 1] - cutoff[i, 0])  # 0 - 1\n",
    "        res[:, i] = (res[:, i] * 2) - 1  # -1 to 1\n",
    "    return res\n",
    "\n",
    "\n",
    "def unscale_img(img, cutoff):\n",
    "    ch_num = img.shape[1]\n",
    "    res = img.copy()\n",
    "    for i in range(ch_num):\n",
    "        res[:, i] = (img[:, i] + 1) / 2  # 0 - 1\n",
    "        res[:, i] = (\n",
    "            res[:, i] * (cutoff[i, 1] - cutoff[i, 0]) + cutoff[i, 0]\n",
    "        )  # back to original scale\n",
    "    return res"
   ]
  },
  {
   "cell_type": "code",
   "execution_count": null,
   "id": "ea2100f5",
   "metadata": {},
   "outputs": [],
   "source": [
    "unscaled = np.load(\n",
    "    \"/home/sz9jt/manifold/sz9jt/HCP_preprocess/100206/T1w/T1w_encoded.npy\"\n",
    ")\n",
    "scaled = np.load(\n",
    "    \"/home/sz9jt/manifold/sz9jt/HCP_preprocess/100206/T1w/T1w_encoded_rescaled.npy\"\n",
    ")\n",
    "\n",
    "# output ranges from -1 to 1 roughly\n",
    "tmp_scaled = scale_img(unscaled, np.array(cutoff_vals))\n",
    "# convert back to original scale\n",
    "tmp_unscaled = unscale_img(scaled, np.array(cutoff_vals))"
   ]
  }
 ],
 "metadata": {
  "kernelspec": {
   "display_name": "mrinr",
   "language": "python",
   "name": "python3"
  },
  "language_info": {
   "codemirror_mode": {
    "name": "ipython",
    "version": 3
   },
   "file_extension": ".py",
   "mimetype": "text/x-python",
   "name": "python",
   "nbconvert_exporter": "python",
   "pygments_lexer": "ipython3",
   "version": "3.11.7"
  }
 },
 "nbformat": 4,
 "nbformat_minor": 5
}
